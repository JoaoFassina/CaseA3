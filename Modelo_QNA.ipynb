{
 "cells": [
  {
   "cell_type": "code",
   "execution_count": 1,
   "metadata": {},
   "outputs": [
    {
     "data": {
      "text/plain": [
       "True"
      ]
     },
     "execution_count": 1,
     "metadata": {},
     "output_type": "execute_result"
    }
   ],
   "source": [
    "from dotenv import load_dotenv, find_dotenv\n",
    "\n",
    "load_dotenv(find_dotenv())"
   ]
  },
  {
   "cell_type": "code",
   "execution_count": 2,
   "metadata": {},
   "outputs": [],
   "source": [
    "from langchain.indexes import VectorstoreIndexCreator\n",
    "from langchain.document_loaders import DataFrameLoader\n",
    "from langchain.text_splitter import RecursiveCharacterTextSplitter\n",
    "from langchain.vectorstores import Chroma\n",
    "from langchain.embeddings import OpenAIEmbeddings\n",
    "from langchain.chains import RetrievalQA\n",
    "from langchain.chat_models import ChatOpenAI\n",
    "\n",
    "import pandas as pd"
   ]
  },
  {
   "cell_type": "code",
   "execution_count": 13,
   "metadata": {},
   "outputs": [],
   "source": [
    "dataChurn = pd.read_parquet('DataChurn.parquet')[['Comentários','ID','Nome','Localização','Tipo de Serviço']]"
   ]
  },
  {
   "cell_type": "code",
   "execution_count": 15,
   "metadata": {},
   "outputs": [],
   "source": [
    "loader = DataFrameLoader(dataChurn,page_content_column='Comentários')\n",
    "data = loader.load()\n",
    "text_splitter = RecursiveCharacterTextSplitter(chunk_size = 500, chunk_overlap = 0)\n",
    "all_splits = text_splitter.split_documents(data)"
   ]
  },
  {
   "cell_type": "code",
   "execution_count": 41,
   "metadata": {},
   "outputs": [],
   "source": [
    "vectorstore = Chroma.from_documents(documents=all_splits, embedding=OpenAIEmbeddings())\n",
    "llm = ChatOpenAI(model_name=\"gpt-3.5-turbo\", temperature=0)\n",
    "qa_chain = RetrievalQA.from_chain_type(llm,retriever=vectorstore.as_retriever(),return_source_documents=True)"
   ]
  },
  {
   "cell_type": "code",
   "execution_count": 42,
   "metadata": {},
   "outputs": [
    {
     "name": "stdout",
     "output_type": "stream",
     "text": [
      "{'query': 'Me traga um comentário de alguem feliz com o serviço', 'result': 'Estou muito satisfeito com o serviço de telefonia móvel. A cobertura é excelente e a internet é rápida. Além disso, não tive nenhum problema com a conexão até o momento. As ligações são sempre claras e o atendimento ao cliente é muito bom. Estou realmente feliz com esse serviço.', 'source_documents': [Document(page_content='Estou satisfeita com o serviço de telefonia móvel A cobertura é boa e a internet é rápida', metadata={'ID': '1011', 'Localização': 'São Paulo/SP/São Paulo', 'Nome': 'Isabela Fernandes', 'Tipo de Serviço': 'Telefonia Móvel'}), Document(page_content='Estou satisfeita com o serviço de telefonia móvel A cobertura é boa e a internet é rápida', metadata={'ID': '1011', 'Localização': 'São Paulo/SP/São Paulo', 'Nome': 'Isabela Fernandes', 'Tipo de Serviço': 'Telefonia Móvel'}), Document(page_content='Estou satisfeita com o serviço de telefonia móvel A cobertura é boa e a internet é rápida', metadata={'ID': '1011', 'Localização': 'São Paulo/SP/São Paulo', 'Nome': 'Isabela Fernandes', 'Tipo de Serviço': 'Telefonia Móvel'}), Document(page_content='Sem reclamações até o momento O serviço tem atendido às minhas expectativas e não tenho tido problemas com a conexão As ligações são claras e o atendimento ao cliente é bom', metadata={'ID': '4', 'Localização': 'Porto Alegre/RS/Rio Grande do Sul', 'Nome': 'Ana Pereira', 'Tipo de Serviço': 'Telefonia Fixa'})]}\n",
      "{'query': 'Agora um comentário sobre o valor dos planos', 'result': 'O valor dos planos de telefonia fixa é justo em relação à qualidade oferecida.', 'source_documents': [Document(page_content='Estou bastante satisfeito com o serviço de telefonia fixa As ligações são claras e nunca tive problemas de cobertura Além disso o valor mensal é justo em relação à qualidade oferecida', metadata={'ID': '1030', 'Localização': 'Rio de Janeiro/RJ/Rio Grande do Sul', 'Nome': 'Lucas Rodrigues', 'Tipo de Serviço': 'Telefonia Fixa'}), Document(page_content='Estou bastante satisfeito com o serviço de telefonia fixa As ligações são claras e nunca tive problemas de cobertura Além disso o valor mensal é justo em relação à qualidade oferecida', metadata={'ID': '1030', 'Localização': 'Rio de Janeiro/RJ/Rio Grande do Sul', 'Nome': 'Lucas Rodrigues', 'Tipo de Serviço': 'Telefonia Fixa'}), Document(page_content='Estou bastante satisfeito com o serviço de telefonia fixa As ligações são claras e nunca tive problemas de cobertura Além disso o valor mensal é justo em relação à qualidade oferecida', metadata={'ID': '1030', 'Localização': 'Rio de Janeiro/RJ/Rio Grande do Sul', 'Nome': 'Lucas Rodrigues', 'Tipo de Serviço': 'Telefonia Fixa'}), Document(page_content='Estou satisfeito com o serviço de telefonia fixa As ligações são claras e a cobertura é boa O valor mensal é acessível em comparação com outras empresas O atendimento ao cliente também é bom Recomendo', metadata={'ID': '1049', 'Localização': 'São Paulo/SP/São Paulo', 'Nome': 'Ricardo Almeida', 'Tipo de Serviço': 'Telefonia Fixa'})]}\n",
      "{'query': 'Algo sobre atendimento', 'result': 'O atendimento ao cliente do serviço de telefonia fixa é eficiente e satisfatório.', 'source_documents': [Document(page_content='O serviço de telefonia fixa atende às minhas necessidades As ligações são claras e nunca tive problemas de cobertura Além disso o suporte ao cliente é eficiente', metadata={'ID': '1022', 'Localização': 'Belo Horizonte/MG/Minas Gerais', 'Nome': 'Ricardo Fernandes', 'Tipo de Serviço': 'Telefonia Fixa'}), Document(page_content='O serviço de telefonia fixa atende às minhas necessidades As ligações são claras e nunca tive problemas de cobertura Além disso o suporte ao cliente é eficiente', metadata={'ID': '1022', 'Localização': 'Belo Horizonte/MG/Minas Gerais', 'Nome': 'Ricardo Fernandes', 'Tipo de Serviço': 'Telefonia Fixa'}), Document(page_content='O serviço de telefonia fixa atende às minhas necessidades As ligações são claras e nunca tive problemas de cobertura Além disso o suporte ao cliente é eficiente', metadata={'ID': '1022', 'Localização': 'Belo Horizonte/MG/Minas Gerais', 'Nome': 'Ricardo Fernandes', 'Tipo de Serviço': 'Telefonia Fixa'}), Document(page_content='Estou satisfeita com o serviço de telefonia fixa As ligações são de boa qualidade e nunca tive problemas de cobertura Além disso o atendimento ao cliente é eficiente', metadata={'ID': '1027', 'Localização': 'Porto Alegre/RS/Rio Grande do Sul', 'Nome': 'Fernanda Costa', 'Tipo de Serviço': 'Telefonia Fixa'})]}\n",
      "{'query': 'Agora traga todos os resultados que você conseguir sobre atendimento ruim', 'result': 'Com base nos comentários fornecidos, podemos concluir que a empresa em questão possui um serviço de telefonia móvel e fixa com atendimento ruim. Os principais problemas relatados pelos usuários incluem chamadas que caem frequentemente, qualidade de som ruim, internet lenta e suporte técnico ineficiente. Os clientes expressaram frustração e desgaste ao lidar com essa empresa. Não há nada positivo a ser dito sobre o atendimento dessa empresa.', 'source_documents': [Document(page_content='O serviço de telefonia móvel é absolutamente horrível As chamadas caem o tempo todo a qualidade do som é péssima e a internet é lenta Não há nada positivo para se dizer sobre essa empresa Fuja dela', metadata={'ID': '1070', 'Localização': 'Porto Alegre/RS/Rio Grande do Sul', 'Nome': 'Andréa Fernandes', 'Tipo de Serviço': 'Telefonia Móvel'}), Document(page_content='O serviço de telefonia móvel é absolutamente horrível As chamadas caem o tempo todo a qualidade do som é péssima e a internet é lenta Não há nada positivo para se dizer sobre essa empresa Fuja dela', metadata={'ID': '1070', 'Localização': 'Porto Alegre/RS/Rio Grande do Sul', 'Nome': 'Andréa Fernandes', 'Tipo de Serviço': 'Telefonia Móvel'}), Document(page_content='O serviço de telefonia móvel é absolutamente horrível As chamadas caem o tempo todo a qualidade do som é péssima e a internet é lenta Não há nada positivo para se dizer sobre essa empresa Fuja dela', metadata={'ID': '1070', 'Localização': 'Porto Alegre/RS/Rio Grande do Sul', 'Nome': 'Andréa Fernandes', 'Tipo de Serviço': 'Telefonia Móvel'}), Document(page_content='O serviço de telefonia fixa dessa empresa é um verdadeiro pesadelo As ligações caem o tempo todo o som é terrível e o suporte técnico é ineficiente É uma experiência frustrante e desgastante lidar com essa empresa', metadata={'ID': '1077', 'Localização': 'Belo Horizonte/MG/Minas Gerais', 'Nome': 'Diego Oliveira', 'Tipo de Serviço': 'Telefonia Fixa'})]}\n",
      "{'query': 'Traga todos os comentários sobre atendimento ruim', 'result': 'Os comentários sobre o atendimento ruim dessa empresa são os seguintes:\\n\\n- O atendimento ao cliente é péssimo, os funcionários são mal educados e não resolvem os problemas.\\n- Tentei entrar em contato com o suporte várias vezes e fui ignorado. É impossível conseguir ajuda quando se precisa.\\n- O tempo de espera para falar com um atendente é absurdo. Fiquei mais de uma hora na linha e ainda não consegui resolver meu problema.\\n- Quando finalmente consegui falar com alguém, a pessoa não tinha conhecimento suficiente para me ajudar. Foi uma perda de tempo.\\n- O suporte técnico é ineficiente e não resolve os problemas. Já tive que chamar várias vezes e o mesmo problema continua acontecendo.\\n- A empresa não se preocupa com a satisfação do cliente. Eles simplesmente não se importam em resolver os problemas.\\n- O atendimento é lento e desorganizado. Parece que não há um sistema eficiente para lidar com as demandas dos clientes.\\n\\nEsses são alguns dos comentários sobre o atendimento ruim dessa empresa.', 'source_documents': [Document(page_content='O serviço de telefonia móvel é absolutamente horrível As chamadas caem o tempo todo a qualidade do som é péssima e a internet é lenta Não há nada positivo para se dizer sobre essa empresa Fuja dela', metadata={'ID': '1070', 'Localização': 'Porto Alegre/RS/Rio Grande do Sul', 'Nome': 'Andréa Fernandes', 'Tipo de Serviço': 'Telefonia Móvel'}), Document(page_content='O serviço de telefonia móvel é absolutamente horrível As chamadas caem o tempo todo a qualidade do som é péssima e a internet é lenta Não há nada positivo para se dizer sobre essa empresa Fuja dela', metadata={'ID': '1070', 'Localização': 'Porto Alegre/RS/Rio Grande do Sul', 'Nome': 'Andréa Fernandes', 'Tipo de Serviço': 'Telefonia Móvel'}), Document(page_content='O serviço de telefonia móvel é absolutamente horrível As chamadas caem o tempo todo a qualidade do som é péssima e a internet é lenta Não há nada positivo para se dizer sobre essa empresa Fuja dela', metadata={'ID': '1070', 'Localização': 'Porto Alegre/RS/Rio Grande do Sul', 'Nome': 'Andréa Fernandes', 'Tipo de Serviço': 'Telefonia Móvel'}), Document(page_content='O serviço de telefonia fixa dessa empresa é um verdadeiro pesadelo As ligações caem o tempo todo o som é terrível e o suporte técnico é ineficiente É uma experiência frustrante e desgastante lidar com essa empresa', metadata={'ID': '1077', 'Localização': 'Belo Horizonte/MG/Minas Gerais', 'Nome': 'Diego Oliveira', 'Tipo de Serviço': 'Telefonia Fixa'})]}\n",
      "{'query': 'Existe algum comentário feliz com o atendimento?', 'result': 'Sim, existem comentários felizes com o atendimento. Alguns usuários mencionaram que o atendimento ao cliente é bom e eficiente.', 'source_documents': [Document(page_content='Sem reclamações até o momento O serviço tem atendido às minhas expectativas e não tenho tido problemas com a conexão As ligações são claras e o atendimento ao cliente é bom', metadata={'ID': '4', 'Localização': 'Porto Alegre/RS/Rio Grande do Sul', 'Nome': 'Ana Pereira', 'Tipo de Serviço': 'Telefonia Fixa'}), Document(page_content='Sem reclamações até o momento O serviço tem atendido às minhas expectativas e não tenho tido problemas com a conexão As ligações são claras e o atendimento ao cliente é bom', metadata={'ID': '4', 'Localização': 'Porto Alegre/RS/Rio Grande do Sul', 'Nome': 'Ana Pereira', 'Tipo de Serviço': 'Telefonia Fixa'}), Document(page_content='Sem reclamações até o momento O serviço tem atendido às minhas expectativas e não tenho tido problemas com a conexão As ligações são claras e o atendimento ao cliente é bom', metadata={'ID': '4', 'Localização': 'Porto Alegre/RS/Rio Grande do Sul', 'Nome': 'Ana Pereira', 'Tipo de Serviço': 'Telefonia Fixa'}), Document(page_content='Estou satisfeita com o serviço de telefonia fixa As ligações são de boa qualidade e nunca tive problemas de cobertura Além disso o atendimento ao cliente é eficiente', metadata={'ID': '1027', 'Localização': 'Porto Alegre/RS/Rio Grande do Sul', 'Nome': 'Fernanda Costa', 'Tipo de Serviço': 'Telefonia Fixa'})]}\n"
     ]
    }
   ],
   "source": [
    "query = ''\n",
    "while True:\n",
    "    query = input()\n",
    "    if query == 'Sair':\n",
    "        break\n",
    "    print(qa_chain({\"query\": query}))"
   ]
  }
 ],
 "metadata": {
  "kernelspec": {
   "display_name": "Python 3",
   "language": "python",
   "name": "python3"
  },
  "language_info": {
   "codemirror_mode": {
    "name": "ipython",
    "version": 3
   },
   "file_extension": ".py",
   "mimetype": "text/x-python",
   "name": "python",
   "nbconvert_exporter": "python",
   "pygments_lexer": "ipython3",
   "version": "3.9.10"
  },
  "orig_nbformat": 4
 },
 "nbformat": 4,
 "nbformat_minor": 2
}
